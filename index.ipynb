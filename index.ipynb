{
 "cells": [
  {
   "cell_type": "markdown",
   "id": "acd5c297",
   "metadata": {},
   "source": [
    "## Introduction  \n",
    "Now that we've run the model locally with one month of data, we'd like to build the model using multiple months. The total data *zipped* is about ~10GB, but unzipped it will be much more. We can serialize the data to a Pandas dataframe but most likely it will throw memory issues depending on the machine you have. We want to write code for one month, locally, using PySpark then migrate the code to run on EMR, and take multiple unzipped files."
   ]
  },
  {
   "cell_type": "markdown",
   "id": "c3131682",
   "metadata": {},
   "source": [
    "## Objectives  \n",
    "* Migrate the model using PySpark to fully utilize distributed computing resource"
   ]
  },
  {
   "cell_type": "markdown",
   "id": "474c4952",
   "metadata": {},
   "source": [
    "First, use the boto3 client to set up the s3 resource then check if the file exists in your bucket. If it doesn't exist, you might have to upload it. You can skip this step for now, but will be helpful for the next lab, where you'll be pulling the data from the S3 bucket."
   ]
  },
  {
   "cell_type": "code",
   "execution_count": 1,
   "id": "f05c0e62",
   "metadata": {},
   "outputs": [
    {
     "name": "stdout",
     "output_type": "stream",
     "text": [
      "Requirement already satisfied: pyspark in c:\\users\\gyanezarvizu\\anaconda3\\lib\\site-packages (3.4.0)\n",
      "Requirement already satisfied: py4j==0.10.9.7 in c:\\users\\gyanezarvizu\\anaconda3\\lib\\site-packages (from pyspark) (0.10.9.7)\n",
      "Note: you may need to restart the kernel to use updated packages.\n"
     ]
    }
   ],
   "source": [
    "pip install pyspark"
   ]
  },
  {
   "cell_type": "code",
   "execution_count": 2,
   "id": "b8849d5f",
   "metadata": {},
   "outputs": [],
   "source": [
    "import boto3\n",
    "from pyspark.sql import SparkSession\n",
    "#solution\n"
   ]
  },
  {
   "cell_type": "code",
   "execution_count": 3,
   "id": "c6f6c3fd",
   "metadata": {},
   "outputs": [],
   "source": [
    "spark = SparkSession \\\n",
    "    .builder \\\n",
    "    .appName(\"XGBoost\") \\\n",
    "    .getOrCreate()"
   ]
  },
  {
   "cell_type": "code",
   "execution_count": 4,
   "id": "5bf35016",
   "metadata": {},
   "outputs": [],
   "source": [
    "# path could be local or boto3\n",
    "path = \"2019-Nov.csv\"\n",
    "df = spark.read.csv(path=path, header=\"true\", inferSchema=\"true\")"
   ]
  },
  {
   "cell_type": "code",
   "execution_count": 5,
   "id": "a56f1a73",
   "metadata": {},
   "outputs": [
    {
     "data": {
      "text/plain": [
       "DataFrame[event_time: timestamp, event_type: string, product_id: int, category_id: bigint, category_code: string, brand: string, price: double, user_id: int, user_session: string]"
      ]
     },
     "metadata": {},
     "output_type": "display_data"
    }
   ],
   "source": [
    "display(df)"
   ]
  },
  {
   "cell_type": "code",
   "execution_count": 6,
   "id": "ef0a40f9",
   "metadata": {},
   "outputs": [],
   "source": [
    "#df.cache()"
   ]
  },
  {
   "cell_type": "markdown",
   "id": "240c0a8c",
   "metadata": {},
   "source": [
    "### How many unique customers?"
   ]
  },
  {
   "cell_type": "code",
   "execution_count": 7,
   "id": "1d015282",
   "metadata": {},
   "outputs": [],
   "source": [
    "# solution\n",
    "unique_customers=df.select(\"user_id\").distinct()\n"
   ]
  },
  {
   "cell_type": "code",
   "execution_count": 8,
   "id": "db227cb7",
   "metadata": {},
   "outputs": [
    {
     "data": {
      "text/plain": [
       "3696117"
      ]
     },
     "execution_count": 8,
     "metadata": {},
     "output_type": "execute_result"
    }
   ],
   "source": [
    "unique_customers.count()"
   ]
  },
  {
   "cell_type": "markdown",
   "id": "49ab0c8f",
   "metadata": {},
   "source": [
    "### Preprocess the data\n",
    "\n",
    "Using the logic from the previous lab, use pyspark functions to explore the dataset."
   ]
  },
  {
   "cell_type": "code",
   "execution_count": 9,
   "id": "1ddb4ebe",
   "metadata": {},
   "outputs": [
    {
     "name": "stdout",
     "output_type": "stream",
     "text": [
      "+-------+------------------+\n",
      "|summary|             price|\n",
      "+-------+------------------+\n",
      "|  count|          67501979|\n",
      "|   mean|292.45931656461437|\n",
      "| stddev|355.67449958606784|\n",
      "|    min|               0.0|\n",
      "|    max|           2574.07|\n",
      "+-------+------------------+\n",
      "\n"
     ]
    }
   ],
   "source": [
    "numeric_cols=['price']\n",
    "df.select(numeric_cols).describe().show()"
   ]
  },
  {
   "cell_type": "code",
   "execution_count": 10,
   "id": "09099b00",
   "metadata": {},
   "outputs": [],
   "source": [
    "unique_brands=df.select(\"brand\").distinct()\n"
   ]
  },
  {
   "cell_type": "code",
   "execution_count": 11,
   "id": "1d1510a7",
   "metadata": {},
   "outputs": [
    {
     "data": {
      "text/plain": [
       "4202"
      ]
     },
     "execution_count": 11,
     "metadata": {},
     "output_type": "execute_result"
    }
   ],
   "source": [
    "unique_brands.count()"
   ]
  },
  {
   "cell_type": "markdown",
   "id": "176608c0",
   "metadata": {},
   "source": [
    "# Modeling: Cart Abandonment\n",
    "\n",
    "The model will be similar - let's build out the new features then start building the model."
   ]
  },
  {
   "cell_type": "code",
   "execution_count": 12,
   "id": "1b6375f9",
   "metadata": {},
   "outputs": [],
   "source": [
    "# solution for additional columns/features"
   ]
  },
  {
   "cell_type": "code",
   "execution_count": 13,
   "id": "6b196044",
   "metadata": {},
   "outputs": [
    {
     "name": "stdout",
     "output_type": "stream",
     "text": [
      "There are 47253900 training examples and 20248079 test examples.\n"
     ]
    }
   ],
   "source": [
    "# df should be the dataframe with additional columns/features\n",
    "train, test = df.randomSplit([0.7, 0.3], seed = 42)\n",
    "print(\"There are %d training examples and %d test examples.\" % (train.count(), test.count()))"
   ]
  },
  {
   "cell_type": "markdown",
   "id": "a9abe72a",
   "metadata": {},
   "source": [
    "Most MLlib algorithms require a single input column containing a vector of features and a single target column. The DataFrame currently has one column for each feature. MLlib provides functions to help you prepare the dataset in the required format.\n",
    "\n",
    "MLlib pipelines combine multiple steps into a single workflow, making it easier to iterate as you develop the model.\n",
    "\n",
    "In this example, you create a pipeline using the following functions:\n",
    "\n",
    "- VectorAssembler: Assembles the feature columns into a feature vector.\n",
    "- VectorIndexer: Identifies columns that should be treated as categorical. This is done heuristically, identifying any column with a small number of distinct values as categorical. In this example, the cart abandonment feature would be categorical (0 or 1)\n",
    "- XgboostRegressor: Uses the XgboostRegressor estimator to learn how to predict rental counts from the feature vectors.\n",
    "- CrossValidator: The XGBoost regression algorithm has several hyperparameters. This notebook illustrates how to use hyperparameter tuning in Spark. This capability automatically tests a grid of hyperparameters and chooses the best resulting model."
   ]
  },
  {
   "cell_type": "code",
   "execution_count": 14,
   "id": "f0271bb1",
   "metadata": {},
   "outputs": [],
   "source": [
    "from pyspark.ml.feature import VectorAssembler, VectorIndexer\n",
    " \n",
    "# Remove the target column from the input feature set.\n",
    "featuresCols = df.columns\n",
    "# featuresCols.remove('your target column')\n",
    " \n",
    "# vectorAssembler combines all feature columns into a single feature vector column, \"rawFeatures\".\n",
    "vectorAssembler = VectorAssembler(inputCols=featuresCols, outputCol=\"rawFeatures\")\n",
    " \n",
    "# vectorIndexer identifies categorical features and indexes them, and creates a new column \"features\". \n",
    "vectorIndexer = VectorIndexer(inputCol=\"rawFeatures\", outputCol=\"features\", maxCategories=4)"
   ]
  },
  {
   "cell_type": "code",
   "execution_count": 15,
   "id": "15958968",
   "metadata": {},
   "outputs": [
    {
     "ename": "ModuleNotFoundError",
     "evalue": "No module named 'sparkdl'",
     "output_type": "error",
     "traceback": [
      "\u001b[1;31m---------------------------------------------------------------------------\u001b[0m",
      "\u001b[1;31mModuleNotFoundError\u001b[0m                       Traceback (most recent call last)",
      "\u001b[1;32m~\\AppData\\Local\\Temp\\ipykernel_24856\\2917133574.py\u001b[0m in \u001b[0;36m<module>\u001b[1;34m\u001b[0m\n\u001b[1;32m----> 1\u001b[1;33m \u001b[1;32mfrom\u001b[0m \u001b[0msparkdl\u001b[0m\u001b[1;33m.\u001b[0m\u001b[0mxgboost\u001b[0m \u001b[1;32mimport\u001b[0m \u001b[0mXgboostRegressor\u001b[0m\u001b[1;33m\u001b[0m\u001b[1;33m\u001b[0m\u001b[0m\n\u001b[0m\u001b[0;32m      2\u001b[0m \u001b[1;33m\u001b[0m\u001b[0m\n\u001b[0;32m      3\u001b[0m \u001b[0mxgb_regressor\u001b[0m \u001b[1;33m=\u001b[0m \u001b[0mXgboostRegressor\u001b[0m\u001b[1;33m(\u001b[0m\u001b[0mnum_workers\u001b[0m\u001b[1;33m=\u001b[0m\u001b[1;36m3\u001b[0m\u001b[1;33m,\u001b[0m \u001b[0mlabelCol\u001b[0m\u001b[1;33m=\u001b[0m\u001b[1;34m\"your_label_column\"\u001b[0m\u001b[1;33m,\u001b[0m \u001b[0mmissing\u001b[0m\u001b[1;33m=\u001b[0m\u001b[1;36m0.0\u001b[0m\u001b[1;33m)\u001b[0m\u001b[1;33m\u001b[0m\u001b[1;33m\u001b[0m\u001b[0m\n",
      "\u001b[1;31mModuleNotFoundError\u001b[0m: No module named 'sparkdl'"
     ]
    }
   ],
   "source": [
    "from sparkdl.xgboost import XgboostRegressor\n",
    " \n",
    "xgb_regressor = XgboostRegressor(num_workers=3, labelCol=\"your_label_column\", missing=0.0)"
   ]
  },
  {
   "cell_type": "code",
   "execution_count": 16,
   "id": "02935ae2",
   "metadata": {},
   "outputs": [
    {
     "ename": "NameError",
     "evalue": "name 'xgb_regressor' is not defined",
     "output_type": "error",
     "traceback": [
      "\u001b[1;31m---------------------------------------------------------------------------\u001b[0m",
      "\u001b[1;31mNameError\u001b[0m                                 Traceback (most recent call last)",
      "\u001b[1;32m~\\AppData\\Local\\Temp\\ipykernel_24856\\247374245.py\u001b[0m in \u001b[0;36m<module>\u001b[1;34m\u001b[0m\n\u001b[0;32m      6\u001b[0m \u001b[1;31m#  - maxIter: iterations, or the total number of trees\u001b[0m\u001b[1;33m\u001b[0m\u001b[1;33m\u001b[0m\u001b[0m\n\u001b[0;32m      7\u001b[0m \u001b[0mparamGrid\u001b[0m \u001b[1;33m=\u001b[0m \u001b[0mParamGridBuilder\u001b[0m\u001b[1;33m(\u001b[0m\u001b[1;33m)\u001b[0m\u001b[0;31m\\\u001b[0m\u001b[1;33m\u001b[0m\u001b[1;33m\u001b[0m\u001b[0m\n\u001b[1;32m----> 8\u001b[1;33m   \u001b[1;33m.\u001b[0m\u001b[0maddGrid\u001b[0m\u001b[1;33m(\u001b[0m\u001b[0mxgb_regressor\u001b[0m\u001b[1;33m.\u001b[0m\u001b[0mmax_depth\u001b[0m\u001b[1;33m,\u001b[0m \u001b[1;33m[\u001b[0m\u001b[1;36m2\u001b[0m\u001b[1;33m,\u001b[0m \u001b[1;36m5\u001b[0m\u001b[1;33m]\u001b[0m\u001b[1;33m)\u001b[0m\u001b[0;31m\\\u001b[0m\u001b[1;33m\u001b[0m\u001b[1;33m\u001b[0m\u001b[0m\n\u001b[0m\u001b[0;32m      9\u001b[0m   \u001b[1;33m.\u001b[0m\u001b[0maddGrid\u001b[0m\u001b[1;33m(\u001b[0m\u001b[0mxgb_regressor\u001b[0m\u001b[1;33m.\u001b[0m\u001b[0mn_estimators\u001b[0m\u001b[1;33m,\u001b[0m \u001b[1;33m[\u001b[0m\u001b[1;36m10\u001b[0m\u001b[1;33m,\u001b[0m \u001b[1;36m100\u001b[0m\u001b[1;33m]\u001b[0m\u001b[1;33m)\u001b[0m\u001b[0;31m\\\u001b[0m\u001b[1;33m\u001b[0m\u001b[1;33m\u001b[0m\u001b[0m\n\u001b[0;32m     10\u001b[0m   \u001b[1;33m.\u001b[0m\u001b[0mbuild\u001b[0m\u001b[1;33m(\u001b[0m\u001b[1;33m)\u001b[0m\u001b[1;33m\u001b[0m\u001b[1;33m\u001b[0m\u001b[0m\n",
      "\u001b[1;31mNameError\u001b[0m: name 'xgb_regressor' is not defined"
     ]
    }
   ],
   "source": [
    "from pyspark.ml.tuning import CrossValidator, ParamGridBuilder\n",
    "from pyspark.ml.evaluation import RegressionEvaluator\n",
    " \n",
    "# Define a grid of hyperparameters to test:\n",
    "#  - maxDepth: maximum depth of each decision tree \n",
    "#  - maxIter: iterations, or the total number of trees \n",
    "paramGrid = ParamGridBuilder()\\\n",
    "  .addGrid(xgb_regressor.max_depth, [2, 5])\\\n",
    "  .addGrid(xgb_regressor.n_estimators, [10, 100])\\\n",
    "  .build()\n",
    " \n",
    "# Define an evaluation metric.  The CrossValidator compares the true labels with predicted values for each combination of parameters, and calculates this value to determine the best model.\n",
    "evaluator = RegressionEvaluator(metricName=\"rmse\",\n",
    "                                labelCol=xgb_regressor.getLabelCol(),\n",
    "                                predictionCol=xgb_regressor.getPredictionCol())\n",
    " \n",
    "# Declare the CrossValidator, which performs the model tuning.\n",
    "cv = CrossValidator(estimator=xgb_regressor, evaluator=evaluator, estimatorParamMaps=paramGrid)"
   ]
  },
  {
   "cell_type": "markdown",
   "id": "c70425e0",
   "metadata": {},
   "source": [
    "### Create the pipeline"
   ]
  },
  {
   "cell_type": "code",
   "execution_count": null,
   "id": "2134b287",
   "metadata": {},
   "outputs": [],
   "source": [
    "from pyspark.ml import Pipeline\n",
    "pipeline = Pipeline(stages=[vectorAssembler, vectorIndexer, cv])"
   ]
  },
  {
   "cell_type": "code",
   "execution_count": null,
   "id": "dd9b24c6",
   "metadata": {},
   "outputs": [],
   "source": []
  }
 ],
 "metadata": {
  "kernelspec": {
   "display_name": "Python 3 (ipykernel)",
   "language": "python",
   "name": "python3"
  },
  "language_info": {
   "codemirror_mode": {
    "name": "ipython",
    "version": 3
   },
   "file_extension": ".py",
   "mimetype": "text/x-python",
   "name": "python",
   "nbconvert_exporter": "python",
   "pygments_lexer": "ipython3",
   "version": "3.9.13"
  }
 },
 "nbformat": 4,
 "nbformat_minor": 5
}
